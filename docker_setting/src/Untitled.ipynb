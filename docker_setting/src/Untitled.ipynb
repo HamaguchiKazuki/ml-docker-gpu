{
 "cells": [
  {
   "cell_type": "code",
   "execution_count": 1,
   "metadata": {},
   "outputs": [
    {
     "data": {
      "text/plain": [
       "[name: \"/device:CPU:0\"\n",
       " device_type: \"CPU\"\n",
       " memory_limit: 268435456\n",
       " locality {\n",
       " }\n",
       " incarnation: 12313598659389852517, name: \"/device:XLA_GPU:0\"\n",
       " device_type: \"XLA_GPU\"\n",
       " memory_limit: 17179869184\n",
       " locality {\n",
       " }\n",
       " incarnation: 10542707891822057871\n",
       " physical_device_desc: \"device: XLA_GPU device\", name: \"/device:XLA_CPU:0\"\n",
       " device_type: \"XLA_CPU\"\n",
       " memory_limit: 17179869184\n",
       " locality {\n",
       " }\n",
       " incarnation: 3840894032541363123\n",
       " physical_device_desc: \"device: XLA_CPU device\", name: \"/device:GPU:0\"\n",
       " device_type: \"GPU\"\n",
       " memory_limit: 4636934144\n",
       " locality {\n",
       "   bus_id: 1\n",
       "   links {\n",
       "   }\n",
       " }\n",
       " incarnation: 3749941775634183388\n",
       " physical_device_desc: \"device: 0, name: GeForce GTX 1060 6GB, pci bus id: 0000:01:00.0, compute capability: 6.1\"]"
      ]
     },
     "execution_count": 1,
     "metadata": {},
     "output_type": "execute_result"
    }
   ],
   "source": [
    "from tensorflow.python.client import device_lib\n",
    "device_lib.list_local_devices()\n"
   ]
  },
  {
   "cell_type": "code",
   "execution_count": 2,
   "metadata": {},
   "outputs": [],
   "source": [
    "import numpy"
   ]
  },
  {
   "cell_type": "code",
   "execution_count": 4,
   "metadata": {},
   "outputs": [
    {
     "name": "stdout",
     "output_type": "stream",
     "text": [
      "Package             Version               \n",
      "------------------- ----------------------\n",
      "absl-py             0.6.1                 \n",
      "astor               0.7.1                 \n",
      "backcall            0.1.0                 \n",
      "bleach              3.0.2                 \n",
      "cycler              0.10.0                \n",
      "decorator           4.3.0                 \n",
      "defusedxml          0.5.0                 \n",
      "entrypoints         0.2.3                 \n",
      "gast                0.2.0                 \n",
      "grpcio              1.16.0                \n",
      "h5py                2.8.0                 \n",
      "ipykernel           5.1.0                 \n",
      "ipython             7.1.1                 \n",
      "ipython-genutils    0.2.0                 \n",
      "ipywidgets          7.4.2                 \n",
      "jedi                0.13.1                \n",
      "Jinja2              2.10                  \n",
      "jsonschema          2.6.0                 \n",
      "jupyter             1.0.0                 \n",
      "jupyter-client      5.2.3                 \n",
      "jupyter-console     6.0.0                 \n",
      "jupyter-core        4.4.0                 \n",
      "Keras-Applications  1.0.6                 \n",
      "Keras-Preprocessing 1.0.5                 \n",
      "kiwisolver          1.0.1                 \n",
      "Markdown            3.0.1                 \n",
      "MarkupSafe          1.1.0                 \n",
      "matplotlib          3.0.1                 \n",
      "mistune             0.8.4                 \n",
      "nbconvert           5.4.0                 \n",
      "nbformat            4.4.0                 \n",
      "notebook            5.7.0                 \n",
      "numpy               1.15.4                \n",
      "pandas              0.23.4                \n",
      "pandocfilters       1.4.2                 \n",
      "parso               0.3.1                 \n",
      "pexpect             4.6.0                 \n",
      "pickleshare         0.7.5                 \n",
      "Pillow              5.3.0                 \n",
      "pip                 18.1                  \n",
      "prometheus-client   0.4.2                 \n",
      "prompt-toolkit      2.0.7                 \n",
      "protobuf            3.6.1                 \n",
      "ptyprocess          0.6.0                 \n",
      "pycurl              7.43.0                \n",
      "Pygments            2.2.0                 \n",
      "pygobject           3.20.0                \n",
      "pyparsing           2.3.0                 \n",
      "python-apt          1.1.0b1+ubuntu0.16.4.2\n",
      "python-dateutil     2.7.5                 \n",
      "pytz                2018.7                \n",
      "pyzmq               17.1.2                \n",
      "qtconsole           4.4.2                 \n",
      "scikit-learn        0.20.0                \n",
      "scipy               1.1.0                 \n",
      "Send2Trash          1.5.0                 \n",
      "setuptools          40.5.0                \n",
      "six                 1.11.0                \n",
      "sklearn             0.0                   \n",
      "tensorboard         1.12.0                \n",
      "tensorflow-gpu      1.12.0                \n",
      "termcolor           1.1.0                 \n",
      "terminado           0.8.1                 \n",
      "testpath            0.4.2                 \n",
      "tornado             5.1.1                 \n",
      "traitlets           4.3.2                 \n",
      "wcwidth             0.1.7                 \n",
      "webencodings        0.5.1                 \n",
      "Werkzeug            0.14.1                \n",
      "wheel               0.32.2                \n",
      "widgetsnbextension  3.4.2                 \n",
      "\u001b[33mYou are using pip version 18.1, however version 19.0.1 is available.\n",
      "You should consider upgrading via the 'pip install --upgrade pip' command.\u001b[0m\n"
     ]
    }
   ],
   "source": [
    "!pip list"
   ]
  },
  {
   "cell_type": "code",
   "execution_count": null,
   "metadata": {},
   "outputs": [],
   "source": []
  }
 ],
 "metadata": {
  "kernelspec": {
   "display_name": "Python 3",
   "language": "python",
   "name": "python3"
  },
  "language_info": {
   "codemirror_mode": {
    "name": "ipython",
    "version": 3
   },
   "file_extension": ".py",
   "mimetype": "text/x-python",
   "name": "python",
   "nbconvert_exporter": "python",
   "pygments_lexer": "ipython3",
   "version": "3.5.2"
  }
 },
 "nbformat": 4,
 "nbformat_minor": 2
}
